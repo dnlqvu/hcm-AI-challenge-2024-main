{
 "cells": [
  {
   "cell_type": "markdown",
   "metadata": {
    "id": "title"
   },
   "source": [
    "# AIC-25 Colab: Textual KIS (CLI flow)\n",
    "\n",
    "This notebook clones the repo, downloads dataset assets from a CSV of links, wires the dataset into the backend, starts the API, and exports KIS CSVs using the CLI tools.\n",
    "\n",
    "Note: TRAKE requires Sonic + transcripts/heading JSON ingestion and is not covered here."
   ]
  },
  {
   "cell_type": "code",
   "execution_count": null,
   "metadata": {
    "id": "clone_repo"
   },
   "outputs": [],
   "source": [
        "# Clone the repo into /content/aic-25\n",
        "import os, shutil, subprocess\n",
        "REPO_URL = \"https://github.com/dnlqvu/hcm-AI-challenge-2024-main.git\"\n",
        "TARGET_DIR = \"/content/aic-25\"\n",
    "\n",
    "if os.path.exists(TARGET_DIR):\n",
    "    shutil.rmtree(TARGET_DIR)\n",
    "print('Cloning', REPO_URL, '->', TARGET_DIR)\n",
    "subprocess.run(['git', 'clone', REPO_URL, TARGET_DIR], check=True)\n",
    "\n",
    "# List top-level files to confirm\n",
    "print(os.listdir(TARGET_DIR))\n"
   ]
  },
  {
   "cell_type": "code",
   "execution_count": null,
   "metadata": {
    "id": "install_deps"
   },
   "outputs": [],
   "source": [
    "# Install backend dependencies\n",
    "%cd /content/aic-25/aic-24-BE\n",
    "!python -m pip install --upgrade pip\n",
    "!pip install -r requirements.txt\n"
   ]
  },
  {
   "cell_type": "code",
   "execution_count": null,
   "metadata": {
    "id": "upload_csv"
   },
   "outputs": [],
   "source": [
    "# Upload AIC_2025_dataset_download_link.csv (or edit CSV_PATH to an accessible path)\n",
    "from google.colab import files\n",
    "uploaded = files.upload()  # choose AIC_2025_dataset_download_link.csv\n",
    "CSV_PATH = next(iter(uploaded))\n",
    "print('Using CSV:', CSV_PATH)\n"
   ]
  },
  {
   "cell_type": "code",
   "execution_count": null,
   "metadata": {
    "id": "download_dataset"
   },
   "outputs": [],
   "source": [
    "# Download dataset assets to example_dataset/ and extract\n",
    "%cd /content/aic-25\n",
    "!python tools/aic_cli.py download-dataset --csv $CSV_PATH --outdir example_dataset --extract\n",
    "!ls -la example_dataset | head -n 50\n"
   ]
  },
  {
   "cell_type": "code",
   "execution_count": null,
   "metadata": {
    "id": "setup_dataset"
   },
   "outputs": [],
   "source": [
    "# Wire dataset into backend: copy, rename keyframes, pack features, build model\n",
    "%cd /content/aic-25\n",
    "!python tools/aic_cli.py setup-example --example-dir example_dataset\n",
    "!ls -la aic-24-BE/data/video_frames | head -n 20\n",
    "!ls -la aic-24-BE/data/clip_features | head -n 20\n",
    "!cat aic-24-BE/.env\n"
   ]
  },
  {
   "cell_type": "code",
   "execution_count": null,
   "metadata": {
    "id": "start_backend"
   },
   "outputs": [],
   "source": [
    "# Start backend API in the background on port 8000\n",
    "%cd /content/aic-25\n",
    "!python tools/aic_cli.py serve --port 8000 --run &\n",
    "import time; time.sleep(5)\n",
    "!python - << 'PY'\n",
    "import requests\n",
    "try:\n",
    "    r = requests.get('http://localhost:8000/docs', timeout=10)\n",
    "    print('Backend reachable:', r.status_code)\n",
    "except Exception as e:\n",
    "    print('Backend not reachable yet:', e)\n",
    "PY\n"
   ]
  },
  {
   "cell_type": "code",
   "execution_count": null,
   "metadata": {
    "id": "prepare_queries"
   },
   "outputs": [],
   "source": [
    "# Create a demo KIS query\n",
    "%cd /content/aic-25\n",
    "!mkdir -p queries_demo\n",
    "query_text = 'tin tức thời sự'  # edit your KIS query here\n",
    "open('queries_demo/query-1-kis.txt', 'w', encoding='utf-8').write(query_text)\n",
    "!sed -n '1,5p' queries_demo/query-1-kis.txt\n"
   ]
  },
  {
   "cell_type": "code",
   "execution_count": null,
   "metadata": {
    "id": "export_kis"
   },
   "outputs": [],
   "source": [
    "# Export KIS CSVs to submission/\n",
    "%cd /content/aic-25\n",
    "!python tools/aic_cli.py export --queries ./queries_demo --api http://localhost:8000 --outdir submission\n",
    "!echo 'Generated files:' && ls -la submission\n",
    "!echo 'Preview:' && head -n 5 submission/query-1-kis.csv\n"
   ]
  },
  {
   "cell_type": "code",
   "execution_count": null,
   "metadata": {
    "id": "optional_zip"
   },
   "outputs": [],
   "source": [
    "# (Optional) Zip for Codabench and download\n",
    "%cd /content/aic-25\n",
    "!python tools/aic_cli.py zip-submission --outdir submission --name aic25_submission.zip\n",
    "from google.colab import files as colab_files\n",
    "colab_files.download('aic25_submission.zip')\n"
   ]
  }
 ],
 "metadata": {
  "colab": {
   "provenance": [],
   "toc_visible": true
  },
  "kernelspec": {
   "display_name": "Python 3",
   "language": "python",
   "name": "python3"
  },
  "language_info": {
   "name": "python"
  }
 },
 "nbformat": 4,
 "nbformat_minor": 5
}
